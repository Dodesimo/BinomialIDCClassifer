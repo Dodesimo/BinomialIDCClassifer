{
 "cells": [
  {
   "cell_type": "code",
   "execution_count": 29,
   "outputs": [],
   "source": [
    "import torch\n",
    "import pandas as pd\n",
    "from torch.utils.data import Dataset\n",
    "from skimage import io\n",
    "import os\n",
    "from torch.utils.data import DataLoader\n",
    "from torch import nn\n",
    "import torch.functional as f\n",
    "from skimage import color\n",
    "import numpy as np\n",
    "from torchvision.transforms import ToTensor"
   ],
   "metadata": {
    "collapsed": false,
    "pycharm": {
     "name": "#%%\n"
    }
   }
  },
  {
   "cell_type": "code",
   "execution_count": 51,
   "outputs": [],
   "source": [
    "class IDCDataset(Dataset):\n",
    "    def __init__(self, csv_file, root_dir, transform=None):\n",
    "        self.annotations = pd.read_csv(csv_file)\n",
    "        self.root_dir = root_dir\n",
    "        self.transform = transform\n",
    "\n",
    "    def __len__(self):\n",
    "        return len(self.annotations)\n",
    "\n",
    "    def __getitem__(self, index):\n",
    "        img_path = os.path.join(self.root_dir, self.annotations.iloc[index, 0])\n",
    "        image = io.imread(img_path)\n",
    "        y_label = torch.tensor(int(self.annotations.iloc[index, 1]))\n",
    "\n",
    "        if self.transform:\n",
    "            image = self.transform(image)\n",
    "\n",
    "        return image, y_label"
   ],
   "metadata": {
    "collapsed": false,
    "pycharm": {
     "name": "#%%\n"
    }
   }
  },
  {
   "cell_type": "code",
   "execution_count": 52,
   "outputs": [],
   "source": [
    "dataset = IDCDataset(csv_file='cancers.csv', root_dir='dset', transform=ToTensor())"
   ],
   "metadata": {
    "collapsed": false,
    "pycharm": {
     "name": "#%%\n"
    }
   }
  },
  {
   "cell_type": "code",
   "execution_count": 53,
   "outputs": [],
   "source": [
    "trainset, testset = torch.utils.data.random_split(dataset, [1500, 500])"
   ],
   "metadata": {
    "collapsed": false,
    "pycharm": {
     "name": "#%%\n"
    }
   }
  },
  {
   "cell_type": "code",
   "execution_count": 54,
   "outputs": [],
   "source": [
    "trainloader = DataLoader(dataset=trainset, batch_size=1, shuffle=True)\n",
    "validloader = DataLoader(dataset=trainset, batch_size=1, shuffle=True)"
   ],
   "metadata": {
    "collapsed": false,
    "pycharm": {
     "name": "#%%\n"
    }
   }
  },
  {
   "cell_type": "code",
   "execution_count": 55,
   "outputs": [
    {
     "name": "stdout",
     "output_type": "stream",
     "text": [
      "tensor([[[[0.9216, 0.9451, 0.9373,  ..., 0.9529, 0.9294, 0.9137],\n",
      "          [0.9490, 0.9529, 0.9569,  ..., 0.9137, 0.9176, 0.8863],\n",
      "          [0.9490, 0.9294, 0.9451,  ..., 0.9216, 0.9176, 0.8314],\n",
      "          ...,\n",
      "          [0.9451, 0.8353, 0.8275,  ..., 0.8078, 0.9059, 0.6471],\n",
      "          [0.9490, 0.8980, 0.6314,  ..., 0.7529, 0.7490, 0.5059],\n",
      "          [0.9451, 0.9255, 0.8078,  ..., 0.5451, 0.7137, 0.6941]],\n",
      "\n",
      "         [[0.8745, 0.9451, 0.9373,  ..., 0.9490, 0.8980, 0.8667],\n",
      "          [0.9294, 0.9373, 0.9451,  ..., 0.8863, 0.8745, 0.8235],\n",
      "          [0.9451, 0.9216, 0.9098,  ..., 0.8745, 0.8667, 0.6902],\n",
      "          ...,\n",
      "          [0.9176, 0.7333, 0.7373,  ..., 0.4431, 0.7216, 0.3216],\n",
      "          [0.9490, 0.8275, 0.5176,  ..., 0.3765, 0.3647, 0.1804],\n",
      "          [0.9373, 0.8863, 0.7020,  ..., 0.1882, 0.2941, 0.2902]],\n",
      "\n",
      "         [[0.9020, 0.9529, 0.9451,  ..., 0.9490, 0.9294, 0.8980],\n",
      "          [0.9490, 0.9294, 0.9451,  ..., 0.9216, 0.8941, 0.8784],\n",
      "          [0.9294, 0.9490, 0.9373,  ..., 0.9020, 0.9020, 0.7843],\n",
      "          ...,\n",
      "          [0.9333, 0.8078, 0.8157,  ..., 0.5569, 0.7882, 0.4392],\n",
      "          [0.9373, 0.8863, 0.6471,  ..., 0.4980, 0.4902, 0.2980],\n",
      "          [0.9373, 0.9137, 0.7922,  ..., 0.2980, 0.4314, 0.4118]]]])\n",
      "tensor([0])\n"
     ]
    }
   ],
   "source": [
    "for x, y in trainloader:\n",
    "    print(x)\n",
    "    print(y)\n",
    "    break"
   ],
   "metadata": {
    "collapsed": false,
    "pycharm": {
     "name": "#%%\n"
    }
   }
  },
  {
   "cell_type": "code",
   "execution_count": 197,
   "outputs": [],
   "source": [
    "class Net(nn.Module):\n",
    "    def __init__(self):\n",
    "        super(Net, self).__init__()\n",
    "        self.c1 = nn.Conv2d(in_channels=3, out_channels=10, kernel_size=(5,5), stride=5)\n",
    "        self.r1 = nn.ReLU()\n",
    "        self.maxpool1 = nn.MaxPool2d(kernel_size=(2,2), stride=2)\n",
    "\n",
    "        self.c2 = nn.Conv2d(in_channels=10, out_channels=20, kernel_size=(2, 2), stride=1)\n",
    "        self.r2 = nn.ReLU()\n",
    "        self.maxpool2=nn.MaxPool2d(kernel_size=(3, 3), stride=1)\n",
    "        self.lin1 = nn.Linear(2 * 2 * 20, 150)\n",
    "        self.lin2 = nn.Linear(150, 2)\n",
    "        self.relu = nn.ReLU()\n",
    "        self.logsoft = nn.LogSoftmax(dim=1)\n",
    "\n",
    "    def forward(self, x):\n",
    "        x = self.c1(x)\n",
    "        x = self.r1(x)\n",
    "        x = self.maxpool1(x)\n",
    "        x = self.c2(x)\n",
    "        x = self.r2(x)\n",
    "        x = self.maxpool2(x)\n",
    "        x = x.flatten(1)\n",
    "        x = self.lin1(x)\n",
    "        x = self.lin2(x)\n",
    "        x = self.relu(x)\n",
    "        x = self.logsoft(x)\n",
    "        return torch.exp(x)"
   ],
   "metadata": {
    "collapsed": false,
    "pycharm": {
     "name": "#%%\n"
    }
   }
  },
  {
   "cell_type": "code",
   "execution_count": 198,
   "outputs": [],
   "source": [
    "model = Net()"
   ],
   "metadata": {
    "collapsed": false,
    "pycharm": {
     "name": "#%%\n"
    }
   }
  },
  {
   "cell_type": "code",
   "execution_count": 199,
   "outputs": [
    {
     "name": "stdout",
     "output_type": "stream",
     "text": [
      "tensor([0])\n",
      "tensor([[0.5104, 0.4896]], grad_fn=<ExpBackward0>)\n"
     ]
    }
   ],
   "source": [
    "for x, y in trainloader:\n",
    "    yhat = model(x)\n",
    "    print(y)\n",
    "    print(yhat)\n",
    "    actual =\n",
    "    break"
   ],
   "metadata": {
    "collapsed": false,
    "pycharm": {
     "name": "#%%\n"
    }
   }
  },
  {
   "cell_type": "code",
   "execution_count": null,
   "outputs": [],
   "source": [],
   "metadata": {
    "collapsed": false,
    "pycharm": {
     "name": "#%%\n"
    }
   }
  }
 ],
 "metadata": {
  "kernelspec": {
   "display_name": "Python 3",
   "language": "python",
   "name": "python3"
  },
  "language_info": {
   "codemirror_mode": {
    "name": "ipython",
    "version": 2
   },
   "file_extension": ".py",
   "mimetype": "text/x-python",
   "name": "python",
   "nbconvert_exporter": "python",
   "pygments_lexer": "ipython2",
   "version": "2.7.6"
  }
 },
 "nbformat": 4,
 "nbformat_minor": 0
}