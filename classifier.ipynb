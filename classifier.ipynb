{
 "cells": [
  {
   "cell_type": "code",
   "execution_count": 2,
   "outputs": [],
   "source": [
    "import torch\n",
    "import pandas as pd\n",
    "from torch.utils.data import Dataset\n",
    "from skimage import io\n",
    "from skimage.transform import resize\n",
    "import os\n",
    "from torch.utils.data import DataLoader\n",
    "from torch import nn\n",
    "import torch.functional as f\n",
    "from skimage import color\n",
    "import numpy as np\n",
    "from torchvision.transforms import ToTensor\n",
    "from matplotlib import pyplot as plt\n",
    "import cv2"
   ],
   "metadata": {
    "collapsed": false,
    "pycharm": {
     "name": "#%%\n"
    }
   }
  },
  {
   "cell_type": "code",
   "execution_count": 66,
   "outputs": [],
   "source": [
    "os.chdir('/Users/devam/PycharmProjects/BinomialIDCClassifer')\n",
    "\n",
    "class IDCDataset(Dataset):\n",
    "    def __init__(self, csv_file, root_dir, transform=None):\n",
    "        self.annotations = pd.read_csv(csv_file)\n",
    "        self.root_dir = root_dir\n",
    "        self.transform = transform\n",
    "\n",
    "    def __len__(self):\n",
    "        return len(self.annotations)\n",
    "\n",
    "    def __getitem__(self, index):\n",
    "        img_path = os.path.join(self.root_dir, self.annotations.iloc[index, 0])\n",
    "        image = io.imread(img_path)\n",
    "        image = resize(image, (50, 50))\n",
    "        y_label = torch.tensor(int(self.annotations.iloc[index, 1]))\n",
    "\n",
    "        if self.transform:\n",
    "            image = self.transform(image)\n",
    "\n",
    "        return image, y_label"
   ],
   "metadata": {
    "collapsed": false,
    "pycharm": {
     "name": "#%%\n"
    }
   }
  },
  {
   "cell_type": "code",
   "execution_count": 67,
   "outputs": [],
   "source": [
    "dataset = IDCDataset(csv_file='cancers.csv', root_dir='dset', transform=ToTensor())"
   ],
   "metadata": {
    "collapsed": false,
    "pycharm": {
     "name": "#%%\n"
    }
   }
  },
  {
   "cell_type": "code",
   "execution_count": 68,
   "outputs": [],
   "source": [
    "trainset, testset = torch.utils.data.random_split(dataset, [1500, 500])"
   ],
   "metadata": {
    "collapsed": false,
    "pycharm": {
     "name": "#%%\n"
    }
   }
  },
  {
   "cell_type": "code",
   "execution_count": 69,
   "outputs": [],
   "source": [
    "trainloader = DataLoader(dataset=trainset, batch_size=200, shuffle=True)\n",
    "validloader = DataLoader(dataset=trainset, batch_size=200, shuffle=True)"
   ],
   "metadata": {
    "collapsed": false,
    "pycharm": {
     "name": "#%%\n"
    }
   }
  },
  {
   "cell_type": "code",
   "execution_count": 70,
   "outputs": [
    {
     "name": "stdout",
     "output_type": "stream",
     "text": [
      "tensor([[[[0.8941, 0.9333, 0.9490,  ..., 0.9373, 0.9608, 0.9451],\n",
      "          [0.9020, 0.9490, 0.9490,  ..., 0.9569, 0.9451, 0.9490],\n",
      "          [0.9255, 0.9412, 0.9490,  ..., 0.9255, 0.8980, 0.9490],\n",
      "          ...,\n",
      "          [0.9490, 0.9451, 0.9490,  ..., 0.9451, 0.9490, 0.9490],\n",
      "          [0.9490, 0.9451, 0.9412,  ..., 0.9412, 0.9529, 0.9490],\n",
      "          [0.9490, 0.9412, 0.9412,  ..., 0.9490, 0.9529, 0.9529]],\n",
      "\n",
      "         [[0.8431, 0.9020, 0.9451,  ..., 0.9137, 0.9451, 0.9490],\n",
      "          [0.8235, 0.9255, 0.9490,  ..., 0.9412, 0.9294, 0.9216],\n",
      "          [0.8745, 0.9137, 0.9490,  ..., 0.8549, 0.8275, 0.9059],\n",
      "          ...,\n",
      "          [0.9333, 0.9373, 0.9373,  ..., 0.9490, 0.9451, 0.9412],\n",
      "          [0.9412, 0.9490, 0.9490,  ..., 0.9255, 0.9412, 0.9412],\n",
      "          [0.9412, 0.9412, 0.9373,  ..., 0.8980, 0.9412, 0.9412]],\n",
      "\n",
      "         [[0.8784, 0.9137, 0.9451,  ..., 0.9373, 0.9451, 0.9725],\n",
      "          [0.8667, 0.9373, 0.9490,  ..., 0.9451, 0.9490, 0.9216],\n",
      "          [0.8941, 0.9412, 0.9412,  ..., 0.9059, 0.8667, 0.9294],\n",
      "          ...,\n",
      "          [0.9451, 0.9451, 0.9451,  ..., 0.9529, 0.9451, 0.9451],\n",
      "          [0.9451, 0.9490, 0.9412,  ..., 0.9333, 0.9451, 0.9451],\n",
      "          [0.9451, 0.9412, 0.9412,  ..., 0.9216, 0.9529, 0.9490]]],\n",
      "\n",
      "\n",
      "        [[[0.8275, 0.9294, 0.9529,  ..., 0.6392, 0.4863, 0.5059],\n",
      "          [0.3922, 0.6549, 0.6941,  ..., 0.5882, 0.4196, 0.6000],\n",
      "          [0.4667, 0.4980, 0.4863,  ..., 0.5961, 0.5176, 0.4980],\n",
      "          ...,\n",
      "          [0.5804, 0.4431, 0.5843,  ..., 0.4314, 0.5608, 0.5725],\n",
      "          [0.6235, 0.5255, 0.4706,  ..., 0.5490, 0.5529, 0.5922],\n",
      "          [0.5059, 0.5373, 0.6196,  ..., 0.5961, 0.6314, 0.4941]],\n",
      "\n",
      "         [[0.7647, 0.9137, 0.9176,  ..., 0.3255, 0.2706, 0.3020],\n",
      "          [0.2471, 0.4745, 0.5490,  ..., 0.3059, 0.2196, 0.3255],\n",
      "          [0.2431, 0.2706, 0.3176,  ..., 0.2941, 0.2706, 0.2745],\n",
      "          ...,\n",
      "          [0.3098, 0.2510, 0.3882,  ..., 0.2392, 0.3176, 0.3961],\n",
      "          [0.4000, 0.3294, 0.3020,  ..., 0.2784, 0.2824, 0.3255],\n",
      "          [0.3098, 0.2980, 0.3255,  ..., 0.4706, 0.4706, 0.3255]],\n",
      "\n",
      "         [[0.8275, 0.9373, 0.9412,  ..., 0.5216, 0.4824, 0.5176],\n",
      "          [0.4549, 0.6471, 0.6824,  ..., 0.4980, 0.4392, 0.5255],\n",
      "          [0.4471, 0.4627, 0.5451,  ..., 0.4902, 0.4863, 0.4824],\n",
      "          ...,\n",
      "          [0.5216, 0.4549, 0.5804,  ..., 0.4549, 0.5098, 0.5765],\n",
      "          [0.5765, 0.5529, 0.5059,  ..., 0.4667, 0.4784, 0.5294],\n",
      "          [0.5373, 0.4902, 0.5137,  ..., 0.6431, 0.6471, 0.5255]]],\n",
      "\n",
      "\n",
      "        [[[0.6667, 0.7059, 0.7020,  ..., 0.7686, 0.6314, 0.6902],\n",
      "          [0.5725, 0.6980, 0.8039,  ..., 0.7725, 0.7490, 0.7216],\n",
      "          [0.6667, 0.6863, 0.7137,  ..., 0.7686, 0.6196, 0.7922],\n",
      "          ...,\n",
      "          [0.6235, 0.6471, 0.6275,  ..., 0.7569, 0.7725, 0.5098],\n",
      "          [0.5647, 0.6157, 0.5961,  ..., 0.6196, 0.4784, 0.4392],\n",
      "          [0.6314, 0.5843, 0.6157,  ..., 0.4353, 0.5294, 0.5843]],\n",
      "\n",
      "         [[0.4824, 0.4941, 0.4275,  ..., 0.5020, 0.4784, 0.5765],\n",
      "          [0.3961, 0.4980, 0.6196,  ..., 0.5843, 0.5333, 0.5451],\n",
      "          [0.4392, 0.4784, 0.4667,  ..., 0.5647, 0.4196, 0.6118],\n",
      "          ...,\n",
      "          [0.4980, 0.4784, 0.4627,  ..., 0.5020, 0.5961, 0.3647],\n",
      "          [0.4196, 0.4667, 0.4706,  ..., 0.4667, 0.2941, 0.2902],\n",
      "          [0.5255, 0.4196, 0.4588,  ..., 0.2588, 0.3529, 0.4078]],\n",
      "\n",
      "         [[0.6510, 0.6510, 0.6157,  ..., 0.6471, 0.6627, 0.7020],\n",
      "          [0.5961, 0.6549, 0.7490,  ..., 0.7137, 0.6863, 0.7059],\n",
      "          [0.6078, 0.6471, 0.6235,  ..., 0.7098, 0.5882, 0.7294],\n",
      "          ...,\n",
      "          [0.6745, 0.6431, 0.6588,  ..., 0.6627, 0.7255, 0.5725],\n",
      "          [0.5961, 0.6627, 0.6471,  ..., 0.6392, 0.5098, 0.5137],\n",
      "          [0.7020, 0.5961, 0.6471,  ..., 0.4902, 0.5569, 0.6078]]],\n",
      "\n",
      "\n",
      "        ...,\n",
      "\n",
      "\n",
      "        [[[0.7961, 0.9333, 0.9333,  ..., 0.9490, 0.9490, 0.8941],\n",
      "          [0.8196, 0.8784, 0.9412,  ..., 0.9412, 0.9451, 0.9529],\n",
      "          [0.6863, 0.8235, 0.9098,  ..., 0.9412, 0.9333, 0.9490],\n",
      "          ...,\n",
      "          [0.8235, 0.8078, 0.7686,  ..., 0.9490, 0.9451, 0.9373],\n",
      "          [0.8549, 0.8353, 0.7333,  ..., 0.9490, 0.9255, 0.9569],\n",
      "          [0.8078, 0.7176, 0.7725,  ..., 0.9451, 0.9490, 0.9333]],\n",
      "\n",
      "         [[0.6902, 0.9255, 0.9451,  ..., 0.9451, 0.9373, 0.9059],\n",
      "          [0.6745, 0.8118, 0.9412,  ..., 0.9529, 0.9529, 0.9333],\n",
      "          [0.5608, 0.7059, 0.8824,  ..., 0.9333, 0.9294, 0.9412],\n",
      "          ...,\n",
      "          [0.5020, 0.5294, 0.5059,  ..., 0.9373, 0.9451, 0.9216],\n",
      "          [0.6039, 0.5373, 0.3922,  ..., 0.9373, 0.9373, 0.9451],\n",
      "          [0.4353, 0.3608, 0.6039,  ..., 0.9333, 0.9451, 0.9255]],\n",
      "\n",
      "         [[0.7804, 0.9255, 0.9412,  ..., 0.9412, 0.9451, 0.9098],\n",
      "          [0.7686, 0.8706, 0.9412,  ..., 0.9490, 0.9412, 0.9490],\n",
      "          [0.6863, 0.7882, 0.9137,  ..., 0.9412, 0.9451, 0.9529],\n",
      "          ...,\n",
      "          [0.6275, 0.6667, 0.6627,  ..., 0.9333, 0.9451, 0.9490],\n",
      "          [0.7216, 0.6667, 0.5490,  ..., 0.9490, 0.9373, 0.9490],\n",
      "          [0.5961, 0.5333, 0.6745,  ..., 0.9490, 0.9373, 0.9294]]],\n",
      "\n",
      "\n",
      "        [[[0.9412, 0.9529, 0.9333,  ..., 0.7216, 0.7608, 0.7922],\n",
      "          [0.9529, 0.9412, 0.9373,  ..., 0.6941, 0.8235, 0.8275],\n",
      "          [0.9490, 0.9451, 0.9490,  ..., 0.8471, 0.7882, 0.8275],\n",
      "          ...,\n",
      "          [0.9373, 0.9373, 0.9373,  ..., 0.9373, 0.9412, 0.9412],\n",
      "          [0.9373, 0.9333, 0.8235,  ..., 0.9490, 0.9451, 0.9412],\n",
      "          [0.9569, 0.7647, 0.5804,  ..., 0.9490, 0.9373, 0.9373]],\n",
      "\n",
      "         [[0.9412, 0.9412, 0.9373,  ..., 0.4196, 0.3843, 0.4196],\n",
      "          [0.9412, 0.9451, 0.9255,  ..., 0.3608, 0.4706, 0.4353],\n",
      "          [0.9412, 0.9412, 0.9412,  ..., 0.4824, 0.4118, 0.4745],\n",
      "          ...,\n",
      "          [0.9451, 0.9294, 0.9216,  ..., 0.9294, 0.9412, 0.9216],\n",
      "          [0.9373, 0.9412, 0.6392,  ..., 0.9373, 0.9412, 0.9333],\n",
      "          [0.9333, 0.5725, 0.3412,  ..., 0.9451, 0.9333, 0.9333]],\n",
      "\n",
      "         [[0.9451, 0.9490, 0.9529,  ..., 0.5765, 0.5294, 0.5608],\n",
      "          [0.9373, 0.9412, 0.9255,  ..., 0.5098, 0.6078, 0.5804],\n",
      "          [0.9412, 0.9529, 0.9451,  ..., 0.6235, 0.5569, 0.6000],\n",
      "          ...,\n",
      "          [0.9412, 0.9373, 0.9294,  ..., 0.9333, 0.9333, 0.9451],\n",
      "          [0.9373, 0.9333, 0.7686,  ..., 0.9490, 0.9333, 0.9490],\n",
      "          [0.9490, 0.6941, 0.5059,  ..., 0.9412, 0.9373, 0.9373]]],\n",
      "\n",
      "\n",
      "        [[[0.9412, 0.9373, 0.9412,  ..., 0.9176, 0.9137, 0.8627],\n",
      "          [0.9490, 0.9451, 0.9412,  ..., 0.9294, 0.9255, 0.9490],\n",
      "          [0.9529, 0.9412, 0.9451,  ..., 0.9137, 0.9412, 0.9451],\n",
      "          ...,\n",
      "          [0.8745, 0.8667, 0.8667,  ..., 0.8118, 0.8196, 0.8902],\n",
      "          [0.9255, 0.8510, 0.8549,  ..., 0.9451, 0.8235, 0.8902],\n",
      "          [0.8706, 0.8980, 0.8235,  ..., 0.9333, 0.8824, 0.8039]],\n",
      "\n",
      "         [[0.9216, 0.9176, 0.9412,  ..., 0.8706, 0.8353, 0.7608],\n",
      "          [0.9333, 0.9412, 0.9216,  ..., 0.8667, 0.9137, 0.9373],\n",
      "          [0.9412, 0.9412, 0.9529,  ..., 0.8588, 0.9059, 0.9451],\n",
      "          ...,\n",
      "          [0.6039, 0.6196, 0.6627,  ..., 0.4235, 0.5294, 0.7059],\n",
      "          [0.8118, 0.6275, 0.6588,  ..., 0.8275, 0.5686, 0.7059],\n",
      "          [0.6549, 0.6745, 0.6000,  ..., 0.8000, 0.6863, 0.5686]],\n",
      "\n",
      "         [[0.9333, 0.9333, 0.9451,  ..., 0.8863, 0.8706, 0.8196],\n",
      "          [0.9529, 0.9294, 0.9373,  ..., 0.8980, 0.9373, 0.9490],\n",
      "          [0.9412, 0.9451, 0.9451,  ..., 0.9059, 0.9176, 0.9373],\n",
      "          ...,\n",
      "          [0.7059, 0.6941, 0.7608,  ..., 0.5451, 0.6431, 0.7765],\n",
      "          [0.8627, 0.6980, 0.7529,  ..., 0.8745, 0.6627, 0.7647],\n",
      "          [0.7451, 0.7529, 0.7020,  ..., 0.8431, 0.7529, 0.6275]]]],\n",
      "       dtype=torch.float64)\n"
     ]
    }
   ],
   "source": [
    "for x, y in trainloader:\n",
    "    print(x)\n",
    "    break"
   ],
   "metadata": {
    "collapsed": false,
    "pycharm": {
     "name": "#%%\n"
    }
   }
  },
  {
   "cell_type": "code",
   "execution_count": 71,
   "outputs": [],
   "source": [
    "class Net(nn.Module):\n",
    "    def __init__(self):\n",
    "        super(Net, self).__init__()\n",
    "        self.c1 = nn.Conv2d(in_channels=3, out_channels=10, kernel_size=(5,5), stride=5)\n",
    "        self.r1 = nn.ReLU()\n",
    "        self.maxpool1 = nn.MaxPool2d(kernel_size=(2,2), stride=2)\n",
    "        self.c2 = nn.Conv2d(in_channels=10, out_channels=20, kernel_size=(2, 2), stride=1)\n",
    "        self.r2 = nn.ReLU()\n",
    "        self.maxpool2=nn.MaxPool2d(kernel_size=(3, 3), stride=1)\n",
    "        self.lin1 = nn.Linear(2 * 2 * 20, 150)\n",
    "        self.lin2 = nn.Linear(150, 2)\n",
    "        self.relu = nn.ReLU()\n",
    "        self.logsoftmax = nn.LogSoftmax(dim=1)\n",
    "\n",
    "    def forward(self, x):\n",
    "        x = self.c1(x)\n",
    "        x = self.r1(x)\n",
    "        x = self.maxpool1(x)\n",
    "        x = self.c2(x)\n",
    "        x = self.r2(x)\n",
    "        x = self.maxpool2(x)\n",
    "        x = x.flatten(1)\n",
    "        x = self.lin1(x)\n",
    "        x = self.lin2(x)\n",
    "        x = self.relu(x)\n",
    "        x = self.logsoftmax(x)\n",
    "        return torch.exp(x)"
   ],
   "metadata": {
    "collapsed": false,
    "pycharm": {
     "name": "#%%\n"
    }
   }
  },
  {
   "cell_type": "code",
   "execution_count": 72,
   "outputs": [],
   "source": [
    "model = Net()"
   ],
   "metadata": {
    "collapsed": false,
    "pycharm": {
     "name": "#%%\n"
    }
   }
  },
  {
   "cell_type": "code",
   "execution_count": 21,
   "outputs": [],
   "source": [
    "criterion = nn.BCELoss()\n",
    "optimizer = torch.optim.SGD(model.parameters(), lr=0.001)"
   ],
   "metadata": {
    "collapsed": false,
    "pycharm": {
     "name": "#%%\n"
    }
   }
  },
  {
   "cell_type": "code",
   "execution_count": 20,
   "outputs": [],
   "source": [
    "def train(epochs):\n",
    "    total = 0\n",
    "    TRAINING_LOSS = []\n",
    "    VALID_ACC = []\n",
    "    for epoch in range(epochs):\n",
    "        for x, y in trainloader:\n",
    "            x = torch.from_numpy(np.asarray(x)).float()\n",
    "            y = torch.from_numpy(np.asarray(y)).float()\n",
    "            yhat = model(x)\n",
    "            loss = criterion(yhat.max(dim=1)[0], y)\n",
    "            TRAINING_LOSS.append(loss.data.item())\n",
    "            optimizer.zero_grad()\n",
    "            loss.backward()\n",
    "            optimizer.step()\n",
    "        correct = 0\n",
    "        total = 0\n",
    "        for x, y in validloader:\n",
    "            x = torch.from_numpy(np.asarray(x)).float()\n",
    "            y = torch.from_numpy(np.asarray(y)).float()\n",
    "            yhat = model(x)\n",
    "            _, label = torch.max(yhat, 1)\n",
    "            correct += (label == y).sum().item()\n",
    "            total += len(y)\n",
    "            accuracy = 100 * (correct / total)\n",
    "            VALID_ACC.append(accuracy)\n",
    "\n",
    "    return TRAINING_LOSS, VALID_ACC"
   ],
   "metadata": {
    "collapsed": false,
    "pycharm": {
     "name": "#%%\n"
    }
   }
  },
  {
   "cell_type": "code",
   "execution_count": 48,
   "outputs": [],
   "source": [
    "trainingdata = train(50)"
   ],
   "metadata": {
    "collapsed": false,
    "pycharm": {
     "name": "#%%\n"
    }
   }
  },
  {
   "cell_type": "code",
   "execution_count": 610,
   "outputs": [
    {
     "data": {
      "text/plain": "<Figure size 432x288 with 2 Axes>",
      "image/png": "[encoded data removed]"
     },
     "metadata": {
      "needs_background": "light"
     },
     "output_type": "display_data"
    }
   ],
   "source": [
    "plt.subplot(2, 1, 1)\n",
    "plt.plot(trainingdata[0], 'r')\n",
    "plt.ylabel('loss')\n",
    "plt.title('training loss iterations')\n",
    "plt.subplot(2, 1, 2)\n",
    "plt.plot(trainingdata[1])\n",
    "plt.ylabel('accuracy')\n",
    "plt.xlabel('epochs')\n",
    "plt.show()"
   ],
   "metadata": {
    "collapsed": false,
    "pycharm": {
     "name": "#%%\n"
    }
   }
  },
  {
   "cell_type": "code",
   "execution_count": null,
   "outputs": [],
   "source": [
    "plt.subplot(2, 1, 1)\n",
    "plt.plot(trainingdata[0], 'r')\n",
    "plt.ylabel('loss')\n",
    "plt.title('training loss iterations')\n",
    "plt.subplot(2, 1, 2)\n",
    "plt.plot(trainingdata[1])\n",
    "plt.ylabel('accuracy')\n",
    "plt.xlabel('epochs')\n",
    "plt.show()"
   ],
   "metadata": {
    "collapsed": false,
    "pycharm": {
     "name": "#%%\n"
    }
   }
  },
  {
   "cell_type": "code",
   "execution_count": 611,
   "outputs": [
    {
     "data": {
      "text/plain": "[24.0,\n 23.5,\n 23.166666666666664,\n 21.625,\n 21.3,\n 20.833333333333336,\n 21.285714285714285,\n 21.6,\n 24.5,\n 21.0,\n 21.333333333333336,\n 21.875,\n 21.6,\n 22.083333333333332,\n 21.714285714285715,\n 21.6,\n 21.0,\n 19.25,\n 21.666666666666668,\n 20.5,\n 20.9,\n 20.916666666666668,\n 21.357142857142858,\n 21.4,\n 50.0,\n 56.99999999999999,\n 57.833333333333336,\n 56.25,\n 56.699999999999996,\n 57.75,\n 58.214285714285715,\n 58.53333333333334,\n 65.0,\n 68.25,\n 67.66666666666666,\n 65.75,\n 67.5,\n 68.58333333333333,\n 69.14285714285714,\n 69.39999999999999,\n 74.0,\n 73.75,\n 73.16666666666667,\n 74.0,\n 74.9,\n 73.58333333333333,\n 73.42857142857143,\n 73.73333333333333,\n 81.0,\n 79.0,\n 77.33333333333333,\n 76.25,\n 75.8,\n 75.16666666666667,\n 75.0,\n 74.86666666666667,\n 77.0,\n 74.5,\n 74.16666666666667,\n 74.25,\n 74.9,\n 74.66666666666667,\n 74.92857142857143,\n 75.66666666666667,\n 79.5,\n 77.25,\n 75.66666666666667,\n 76.25,\n 76.2,\n 76.33333333333333,\n 75.78571428571429,\n 76.2,\n 77.5,\n 76.25,\n 77.33333333333333,\n 77.5,\n 77.0,\n 76.83333333333333,\n 76.71428571428571,\n 76.4,\n 74.0,\n 76.25,\n 77.33333333333333,\n 76.25,\n 77.2,\n 76.41666666666667,\n 77.21428571428571,\n 76.6,\n 77.5,\n 78.5,\n 78.16666666666666,\n 77.75,\n 76.5,\n 77.25,\n 76.71428571428571,\n 76.73333333333333,\n 74.5,\n 76.5,\n 76.16666666666667,\n 76.375,\n 76.5,\n 76.25,\n 76.5,\n 76.8,\n 74.5,\n 77.0,\n 77.66666666666666,\n 77.5,\n 77.5,\n 77.5,\n 77.35714285714286,\n 77.06666666666668,\n 79.0,\n 80.25,\n 78.66666666666666,\n 77.25,\n 77.9,\n 76.83333333333333,\n 77.5,\n 77.13333333333333,\n 78.0,\n 75.0,\n 76.16666666666667,\n 77.125,\n 76.8,\n 77.33333333333333,\n 77.35714285714286,\n 77.33333333333333,\n 78.0,\n 76.75,\n 77.0,\n 78.625,\n 77.7,\n 77.33333333333333,\n 77.42857142857143,\n 77.46666666666667,\n 79.0,\n 77.0,\n 77.33333333333333,\n 77.125,\n 77.3,\n 77.75,\n 77.5,\n 77.53333333333333,\n 78.0,\n 79.25,\n 79.33333333333333,\n 78.25,\n 77.5,\n 77.33333333333333,\n 77.5,\n 77.60000000000001,\n 79.5,\n 79.5,\n 78.33333333333333,\n 77.875,\n 77.5,\n 77.25,\n 77.57142857142857,\n 77.60000000000001,\n 77.5,\n 78.25,\n 78.16666666666666,\n 77.625,\n 77.7,\n 77.25,\n 76.92857142857143,\n 77.66666666666666,\n 79.5,\n 79.75,\n 78.66666666666666,\n 78.25,\n 78.0,\n 77.75,\n 78.0,\n 77.8,\n 80.5,\n 79.25,\n 78.83333333333333,\n 78.25,\n 78.0,\n 77.91666666666667,\n 77.92857142857143,\n 77.86666666666666,\n 73.5,\n 78.5,\n 79.16666666666666,\n 79.375,\n 79.0,\n 78.33333333333333,\n 77.85714285714286,\n 78.13333333333333,\n 75.0,\n 78.75,\n 78.16666666666666,\n 78.125,\n 77.7,\n 78.33333333333333,\n 78.21428571428571,\n 78.13333333333333,\n 78.0,\n 77.25,\n 77.83333333333333,\n 78.0,\n 78.4,\n 78.41666666666667,\n 78.5,\n 78.13333333333333,\n 75.5,\n 77.75,\n 76.83333333333333,\n 77.125,\n 77.2,\n 77.58333333333334,\n 78.28571428571428,\n 78.2,\n 78.5,\n 78.0,\n 78.83333333333333,\n 77.875,\n 78.3,\n 78.16666666666666,\n 78.21428571428571,\n 78.26666666666667,\n 78.0,\n 78.75,\n 79.16666666666666,\n 77.875,\n 78.7,\n 78.33333333333333,\n 77.85714285714286,\n 78.26666666666667,\n 75.5,\n 76.25,\n 78.0,\n 78.75,\n 77.8,\n 77.41666666666667,\n 77.85714285714286,\n 78.26666666666667,\n 79.5,\n 76.75,\n 77.83333333333333,\n 77.625,\n 77.7,\n 77.83333333333333,\n 78.35714285714286,\n 78.26666666666667,\n 76.0,\n 77.25,\n 78.5,\n 78.75,\n 78.5,\n 77.91666666666667,\n 78.28571428571428,\n 78.26666666666667,\n 80.0,\n 79.0,\n 78.83333333333333,\n 78.625,\n 77.2,\n 78.08333333333334,\n 78.0,\n 78.26666666666667,\n 81.0,\n 78.25,\n 79.33333333333333,\n 79.125,\n 78.9,\n 78.16666666666666,\n 78.42857142857143,\n 78.26666666666667,\n 79.0,\n 79.0,\n 78.33333333333333,\n 77.75,\n 78.5,\n 78.83333333333333,\n 78.78571428571428,\n 78.26666666666667,\n 73.5,\n 77.0,\n 76.0,\n 77.125,\n 76.9,\n 77.66666666666666,\n 78.14285714285715,\n 78.33333333333333,\n 75.0,\n 78.0,\n 77.66666666666666,\n 79.25,\n 78.10000000000001,\n 78.0,\n 78.35714285714286,\n 78.33333333333333,\n 80.0,\n 79.0,\n 78.5,\n 78.375,\n 78.60000000000001,\n 78.25,\n 78.14285714285715,\n 78.33333333333333,\n 79.5,\n 79.0,\n 75.83333333333333,\n 76.625,\n 77.5,\n 78.08333333333334,\n 78.14285714285715,\n 78.33333333333333,\n 76.0,\n 77.25,\n 76.66666666666667,\n 77.125,\n 77.5,\n 77.75,\n 78.07142857142857,\n 78.26666666666667,\n 80.0,\n 79.0,\n 77.66666666666666,\n 78.125,\n 77.8,\n 77.66666666666666,\n 78.07142857142857,\n 78.26666666666667,\n 77.0,\n 77.0,\n 76.33333333333333,\n 76.875,\n 77.4,\n 77.58333333333334,\n 78.07142857142857,\n 78.26666666666667,\n 81.5,\n 81.0,\n 81.0,\n 80.25,\n 79.80000000000001,\n 79.08333333333334,\n 77.92857142857143,\n 78.26666666666667,\n 81.5,\n 78.0,\n 76.5,\n 77.0,\n 77.60000000000001,\n 77.33333333333333,\n 78.14285714285715,\n 78.26666666666667,\n 78.5,\n 77.75,\n 78.16666666666666,\n 78.125,\n 78.3,\n 77.41666666666667,\n 78.07142857142857,\n 78.26666666666667,\n 79.5,\n 78.75,\n 77.66666666666666,\n 77.375,\n 77.2,\n 78.41666666666667,\n 78.28571428571428,\n 78.26666666666667,\n 78.5,\n 78.5,\n 77.83333333333333,\n 77.625,\n 77.60000000000001,\n 78.25,\n 78.0,\n 78.26666666666667,\n 79.5,\n 78.5,\n 78.5,\n 78.0,\n 79.10000000000001,\n 78.83333333333333,\n 79.14285714285715,\n 78.33333333333333,\n 77.5,\n 76.5,\n 79.0,\n 78.0,\n 77.9,\n 78.16666666666666,\n 78.64285714285715,\n 78.33333333333333,\n 78.5,\n 77.25,\n 76.83333333333333,\n 77.75,\n 77.60000000000001,\n 77.66666666666666,\n 77.92857142857143,\n 78.33333333333333]"
     },
     "execution_count": 611,
     "metadata": {},
     "output_type": "execute_result"
    }
   ],
   "source": [
    "trainingdata[1]"
   ],
   "metadata": {
    "collapsed": false,
    "pycharm": {
     "name": "#%%\n"
    }
   }
  },
  {
   "cell_type": "markdown",
   "source": [
    "Peak accuracy: 81.5%\n",
    "Ending Accuracy: 78.33%\n",
    "\n",
    "Peak could have been conserved with early stopping\n",
    "\n",
    "Overall performance could be optimized using drop-out techniques as well as more convolution layers (LeNet 50 derivative was used for this)"
   ],
   "metadata": {
    "collapsed": false,
    "pycharm": {
     "name": "#%% md\n"
    }
   }
  },
  {
   "cell_type": "code",
   "execution_count": 613,
   "outputs": [],
   "source": [
    "torch.save(model.state_dict(), 'finalmodel.pt')"
   ],
   "metadata": {
    "collapsed": false,
    "pycharm": {
     "name": "#%%\n"
    }
   }
  },
  {
   "cell_type": "code",
   "execution_count": 614,
   "outputs": [],
   "source": [
    "torch.save(optimizer.state_dict(), 'finaloptimizer.pt')"
   ],
   "metadata": {
    "collapsed": false,
    "pycharm": {
     "name": "#%%\n"
    }
   }
  },
  {
   "cell_type": "code",
   "execution_count": 73,
   "outputs": [
    {
     "data": {
      "text/plain": "<All keys matched successfully>"
     },
     "execution_count": 73,
     "metadata": {},
     "output_type": "execute_result"
    }
   ],
   "source": [
    "model.load_state_dict(torch.load('finalmodel.pt'))"
   ],
   "metadata": {
    "collapsed": false,
    "pycharm": {
     "name": "#%%\n"
    }
   }
  },
  {
   "cell_type": "code",
   "execution_count": 74,
   "outputs": [
    {
     "name": "stdout",
     "output_type": "stream",
     "text": [
      "77.5\n",
      "74.75\n",
      "75.83333333333333\n",
      "77.0\n",
      "76.4\n",
      "77.66666666666666\n",
      "77.57142857142857\n",
      "77.86666666666666\n"
     ]
    }
   ],
   "source": [
    "correct = 0\n",
    "total = 0\n",
    "for x, y in validloader:\n",
    "            x = torch.from_numpy(np.asarray(x)).float()\n",
    "            y = torch.from_numpy(np.asarray(y)).float()\n",
    "            yhat = model(x)\n",
    "            _, label = torch.max(yhat, 1)\n",
    "            correct += (label == y).sum().item()\n",
    "            total += len(y)\n",
    "            accuracy = 100 * (correct / total)\n",
    "            print(accuracy)"
   ],
   "metadata": {
    "collapsed": false,
    "pycharm": {
     "name": "#%%\n"
    }
   }
  }
 ],
 "metadata": {
  "kernelspec": {
   "display_name": "Python 3",
   "language": "python",
   "name": "python3"
  },
  "language_info": {
   "codemirror_mode": {
    "name": "ipython",
    "version": 2
   },
   "file_extension": ".py",
   "mimetype": "text/x-python",
   "name": "python",
   "nbconvert_exporter": "python",
   "pygments_lexer": "ipython2",
   "version": "2.7.6"
  }
 },
 "nbformat": 4,
 "nbformat_minor": 0
}